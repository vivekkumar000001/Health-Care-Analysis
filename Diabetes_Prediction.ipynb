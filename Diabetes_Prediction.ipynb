{
  "nbformat": 4,
  "nbformat_minor": 0,
  "metadata": {
    "colab": {
      "name": "Diabetes_Prediction.ipynb",
      "provenance": [],
      "collapsed_sections": []
    },
    "kernelspec": {
      "name": "python3",
      "display_name": "Python 3"
    }
  },
  "cells": [
    {
      "cell_type": "markdown",
      "metadata": {
        "id": "Snq4iq_JOB4T"
      },
      "source": [
        "# PART 1 : Install Dependencies & Run Spark Session"
      ]
    },
    {
      "cell_type": "code",
      "metadata": {
        "id": "NpCRBcqtN5lH",
        "colab": {
          "base_uri": "https://localhost:8080/"
        },
        "outputId": "56468c7e-d6b4-4437-e5c7-4dea959e4771"
      },
      "source": [
        "#install pyspark\n",
        "! pip install pyspark\n"
      ],
      "execution_count": null,
      "outputs": [
        {
          "output_type": "stream",
          "text": [
            "Requirement already satisfied: pyspark in /usr/local/lib/python3.6/dist-packages (3.0.1)\n",
            "Requirement already satisfied: py4j==0.10.9 in /usr/local/lib/python3.6/dist-packages (from pyspark) (0.10.9)\n"
          ],
          "name": "stdout"
        }
      ]
    },
    {
      "cell_type": "code",
      "metadata": {
        "id": "GNZoOuDqOdxX"
      },
      "source": [
        "#create a sparksession\n",
        "from pyspark.sql import SparkSession\n",
        "spark = SparkSession.builder.appName(\"spark\").getOrCreate()"
      ],
      "execution_count": null,
      "outputs": []
    },
    {
      "cell_type": "markdown",
      "metadata": {
        "id": "5sG3MLXlOews"
      },
      "source": [
        "# PART 2: Clone & Explore dataset"
      ]
    },
    {
      "cell_type": "code",
      "metadata": {
        "id": "-Uh5H7_KOoSL",
        "colab": {
          "base_uri": "https://localhost:8080/"
        },
        "outputId": "7643547d-8254-47b6-f7ae-dc7ef3b9f8e2"
      },
      "source": [
        "#clone the diabetes dataset from the github repository\n",
        "! git clone https://github.com/education454/diabetes_dataset"
      ],
      "execution_count": null,
      "outputs": [
        {
          "output_type": "stream",
          "text": [
            "fatal: destination path 'diabetes_dataset' already exists and is not an empty directory.\n"
          ],
          "name": "stdout"
        }
      ]
    },
    {
      "cell_type": "code",
      "metadata": {
        "id": "VcqwJRxVOutr",
        "colab": {
          "base_uri": "https://localhost:8080/"
        },
        "outputId": "bceb1cfe-d04f-4c7d-9988-45d4847b1416"
      },
      "source": [
        "#check if the dataset exists\r\n",
        "! ls diabetes_dataset"
      ],
      "execution_count": null,
      "outputs": [
        {
          "output_type": "stream",
          "text": [
            "diabetes.csv  new_test.csv\n"
          ],
          "name": "stdout"
        }
      ]
    },
    {
      "cell_type": "code",
      "metadata": {
        "id": "ST1rFFOlOu8s"
      },
      "source": [
        "#create spark dataframe\r\n",
        "df = spark.read.csv(\"/content/diabetes_dataset/diabetes.csv\", header=True, inferSchema=True)"
      ],
      "execution_count": null,
      "outputs": []
    },
    {
      "cell_type": "code",
      "metadata": {
        "id": "IiJm-pmROvKd",
        "colab": {
          "base_uri": "https://localhost:8080/"
        },
        "outputId": "822bf6c6-de67-4418-c1b2-aefb9ce8c26f"
      },
      "source": [
        "#display the dataframe\r\n",
        "df.show()"
      ],
      "execution_count": null,
      "outputs": [
        {
          "output_type": "stream",
          "text": [
            "+-----------+-------+-------------+-------------+-------+----+------------------------+---+-------+\n",
            "|Pregnancies|Glucose|BloodPressure|SkinThickness|Insulin| BMI|DiabetesPedigreeFunction|Age|Outcome|\n",
            "+-----------+-------+-------------+-------------+-------+----+------------------------+---+-------+\n",
            "|          2|    138|           62|           35|      0|33.6|                   0.127| 47|      1|\n",
            "|          0|     84|           82|           31|    125|38.2|                   0.233| 23|      0|\n",
            "|          0|    145|            0|            0|      0|44.2|                    0.63| 31|      1|\n",
            "|          0|    135|           68|           42|    250|42.3|                   0.365| 24|      1|\n",
            "|          1|    139|           62|           41|    480|40.7|                   0.536| 21|      0|\n",
            "|          0|    173|           78|           32|    265|46.5|                   1.159| 58|      0|\n",
            "|          4|     99|           72|           17|      0|25.6|                   0.294| 28|      0|\n",
            "|          8|    194|           80|            0|      0|26.1|                   0.551| 67|      0|\n",
            "|          2|     83|           65|           28|     66|36.8|                   0.629| 24|      0|\n",
            "|          2|     89|           90|           30|      0|33.5|                   0.292| 42|      0|\n",
            "|          4|     99|           68|           38|      0|32.8|                   0.145| 33|      0|\n",
            "|          4|    125|           70|           18|    122|28.9|                   1.144| 45|      1|\n",
            "|          3|     80|            0|            0|      0| 0.0|                   0.174| 22|      0|\n",
            "|          6|    166|           74|            0|      0|26.6|                   0.304| 66|      0|\n",
            "|          5|    110|           68|            0|      0|26.0|                   0.292| 30|      0|\n",
            "|          2|     81|           72|           15|     76|30.1|                   0.547| 25|      0|\n",
            "|          7|    195|           70|           33|    145|25.1|                   0.163| 55|      1|\n",
            "|          6|    154|           74|           32|    193|29.3|                   0.839| 39|      0|\n",
            "|          2|    117|           90|           19|     71|25.2|                   0.313| 21|      0|\n",
            "|          3|     84|           72|           32|      0|37.2|                   0.267| 28|      0|\n",
            "+-----------+-------+-------------+-------------+-------+----+------------------------+---+-------+\n",
            "only showing top 20 rows\n",
            "\n"
          ],
          "name": "stdout"
        }
      ]
    },
    {
      "cell_type": "code",
      "metadata": {
        "id": "Ulqkuz8aOvV6",
        "colab": {
          "base_uri": "https://localhost:8080/"
        },
        "outputId": "ce50028d-0991-42b1-b3d0-8bc31498eaf8"
      },
      "source": [
        "#print the schema\r\n",
        "df.printSchema()"
      ],
      "execution_count": null,
      "outputs": [
        {
          "output_type": "stream",
          "text": [
            "root\n",
            " |-- Pregnancies: integer (nullable = true)\n",
            " |-- Glucose: integer (nullable = true)\n",
            " |-- BloodPressure: integer (nullable = true)\n",
            " |-- SkinThickness: integer (nullable = true)\n",
            " |-- Insulin: integer (nullable = true)\n",
            " |-- BMI: double (nullable = true)\n",
            " |-- DiabetesPedigreeFunction: double (nullable = true)\n",
            " |-- Age: integer (nullable = true)\n",
            " |-- Outcome: integer (nullable = true)\n",
            "\n"
          ],
          "name": "stdout"
        }
      ]
    },
    {
      "cell_type": "code",
      "metadata": {
        "id": "kpZlF2S2Ovgw",
        "colab": {
          "base_uri": "https://localhost:8080/"
        },
        "outputId": "6dcf94ff-56ac-4163-9d3f-d1f78bd143ad"
      },
      "source": [
        "#count the total no. of diabetic and non-diabetic class\r\n",
        "print((df.count(), len(df.columns)))\r\n",
        "df.groupBy('Outcome').count().show()"
      ],
      "execution_count": null,
      "outputs": [
        {
          "output_type": "stream",
          "text": [
            "(2000, 9)\n",
            "+-------+-----+\n",
            "|Outcome|count|\n",
            "+-------+-----+\n",
            "|      1|  684|\n",
            "|      0| 1316|\n",
            "+-------+-----+\n",
            "\n"
          ],
          "name": "stdout"
        }
      ]
    },
    {
      "cell_type": "code",
      "metadata": {
        "id": "NewCNZEMOvtM",
        "colab": {
          "base_uri": "https://localhost:8080/"
        },
        "outputId": "60681a6a-1387-44ca-f545-aa953a07cd4a"
      },
      "source": [
        "#get the summary statistics\r\n",
        "df.describe().show()"
      ],
      "execution_count": null,
      "outputs": [
        {
          "output_type": "stream",
          "text": [
            "+-------+-----------------+------------------+------------------+-----------------+-----------------+------------------+------------------------+------------------+------------------+\n",
            "|summary|      Pregnancies|           Glucose|     BloodPressure|    SkinThickness|          Insulin|               BMI|DiabetesPedigreeFunction|               Age|           Outcome|\n",
            "+-------+-----------------+------------------+------------------+-----------------+-----------------+------------------+------------------------+------------------+------------------+\n",
            "|  count|             2000|              2000|              2000|             2000|             2000|              2000|                    2000|              2000|              2000|\n",
            "|   mean|           3.7035|          121.1825|           69.1455|           20.935|           80.254|32.192999999999984|     0.47092999999999974|           33.0905|             0.342|\n",
            "| stddev|3.306063032730656|32.068635649902916|19.188314815604098|16.10324290992682|111.1805335457595| 8.149900701279762|      0.3235525586811429|11.786423106049496|0.4744982342297426|\n",
            "|    min|                0|                 0|                 0|                0|                0|               0.0|                   0.078|                21|                 0|\n",
            "|    max|               17|               199|               122|              110|              744|              80.6|                    2.42|                81|                 1|\n",
            "+-------+-----------------+------------------+------------------+-----------------+-----------------+------------------+------------------------+------------------+------------------+\n",
            "\n"
          ],
          "name": "stdout"
        }
      ]
    },
    {
      "cell_type": "markdown",
      "metadata": {
        "id": "gZerPOR-OyjQ"
      },
      "source": [
        "# PART 3: Data Cleaning & Preparation"
      ]
    },
    {
      "cell_type": "code",
      "metadata": {
        "id": "Q-KkJvV_PFFU",
        "colab": {
          "base_uri": "https://localhost:8080/"
        },
        "outputId": "706e1e11-405e-4072-ed15-663d90496bc4"
      },
      "source": [
        "#check for null values\r\n",
        "for col in df.columns:\r\n",
        "  print(col+\":\",df[df[col].isNull()].count())"
      ],
      "execution_count": null,
      "outputs": [
        {
          "output_type": "stream",
          "text": [
            "Pregnancies: 0\n",
            "Glucose: 0\n",
            "BloodPressure: 0\n",
            "SkinThickness: 0\n",
            "Insulin: 0\n",
            "BMI: 0\n",
            "DiabetesPedigreeFunction: 0\n",
            "Age: 0\n",
            "Outcome: 0\n"
          ],
          "name": "stdout"
        }
      ]
    },
    {
      "cell_type": "code",
      "metadata": {
        "id": "ZJsbgwZMPFQC"
      },
      "source": [
        "#look for the unnecessary values present\r\n",
        "def count_zeros():\r\n",
        "  columns_list = [\"Glucose\", \"BloodPressure\", \"SkinThickness\", \"Insulin\", \"BMI\"]\r\n",
        "  for i in columns_list:\r\n",
        "    print(i+\":\",df[df[i]==0].count())"
      ],
      "execution_count": null,
      "outputs": []
    },
    {
      "cell_type": "code",
      "metadata": {
        "id": "pcXTErb9PFbo",
        "colab": {
          "base_uri": "https://localhost:8080/"
        },
        "outputId": "c0e1b716-b8e6-4be1-c056-8a545b666438"
      },
      "source": [
        "count_zeros()"
      ],
      "execution_count": null,
      "outputs": [
        {
          "output_type": "stream",
          "text": [
            "Glucose: 13\n",
            "BloodPressure: 90\n",
            "SkinThickness: 573\n",
            "Insulin: 956\n",
            "BMI: 28\n"
          ],
          "name": "stdout"
        }
      ]
    },
    {
      "cell_type": "code",
      "metadata": {
        "id": "VXemdtaPPFmA",
        "colab": {
          "base_uri": "https://localhost:8080/"
        },
        "outputId": "fe9fb35d-f124-4d7d-a4cc-21604a11ae22"
      },
      "source": [
        "#calculate and replace the unnecessary values by the mean value\r\n",
        "from pyspark.sql.functions import *\r\n",
        "\r\n",
        "for i in df.columns[1:6]:\r\n",
        "  data = df.agg({i:\"mean\"}).first()[0]\r\n",
        "  print(\"mean value for {} is {}\".format(i,int(data)))\r\n",
        "  df = df.withColumn(i, when(df[i]==0, int(data)).otherwise(df[i]))"
      ],
      "execution_count": null,
      "outputs": [
        {
          "output_type": "stream",
          "text": [
            "mean value for Glucose is 121\n",
            "mean value for BloodPressure is 69\n",
            "mean value for SkinThickness is 20\n",
            "mean value for Insulin is 80\n",
            "mean value for BMI is 32\n"
          ],
          "name": "stdout"
        }
      ]
    },
    {
      "cell_type": "code",
      "metadata": {
        "id": "C0bk0Ps_PFwk",
        "colab": {
          "base_uri": "https://localhost:8080/"
        },
        "outputId": "3c13784a-d000-4418-92a2-311b1114420a"
      },
      "source": [
        "#display the dataframe \r\n",
        "df.show()"
      ],
      "execution_count": null,
      "outputs": [
        {
          "output_type": "stream",
          "text": [
            "+-----------+-------+-------------+-------------+-------+----+------------------------+---+-------+\n",
            "|Pregnancies|Glucose|BloodPressure|SkinThickness|Insulin| BMI|DiabetesPedigreeFunction|Age|Outcome|\n",
            "+-----------+-------+-------------+-------------+-------+----+------------------------+---+-------+\n",
            "|          2|    138|           62|           35|     80|33.6|                   0.127| 47|      1|\n",
            "|          0|     84|           82|           31|    125|38.2|                   0.233| 23|      0|\n",
            "|          0|    145|           69|           20|     80|44.2|                    0.63| 31|      1|\n",
            "|          0|    135|           68|           42|    250|42.3|                   0.365| 24|      1|\n",
            "|          1|    139|           62|           41|    480|40.7|                   0.536| 21|      0|\n",
            "|          0|    173|           78|           32|    265|46.5|                   1.159| 58|      0|\n",
            "|          4|     99|           72|           17|     80|25.6|                   0.294| 28|      0|\n",
            "|          8|    194|           80|           20|     80|26.1|                   0.551| 67|      0|\n",
            "|          2|     83|           65|           28|     66|36.8|                   0.629| 24|      0|\n",
            "|          2|     89|           90|           30|     80|33.5|                   0.292| 42|      0|\n",
            "|          4|     99|           68|           38|     80|32.8|                   0.145| 33|      0|\n",
            "|          4|    125|           70|           18|    122|28.9|                   1.144| 45|      1|\n",
            "|          3|     80|           69|           20|     80|32.0|                   0.174| 22|      0|\n",
            "|          6|    166|           74|           20|     80|26.6|                   0.304| 66|      0|\n",
            "|          5|    110|           68|           20|     80|26.0|                   0.292| 30|      0|\n",
            "|          2|     81|           72|           15|     76|30.1|                   0.547| 25|      0|\n",
            "|          7|    195|           70|           33|    145|25.1|                   0.163| 55|      1|\n",
            "|          6|    154|           74|           32|    193|29.3|                   0.839| 39|      0|\n",
            "|          2|    117|           90|           19|     71|25.2|                   0.313| 21|      0|\n",
            "|          3|     84|           72|           32|     80|37.2|                   0.267| 28|      0|\n",
            "+-----------+-------+-------------+-------------+-------+----+------------------------+---+-------+\n",
            "only showing top 20 rows\n",
            "\n"
          ],
          "name": "stdout"
        }
      ]
    },
    {
      "cell_type": "markdown",
      "metadata": {
        "id": "LOgSTdBpPs7G"
      },
      "source": [
        "# PART 4: Correlation Analysis & Feature Selection"
      ]
    },
    {
      "cell_type": "code",
      "metadata": {
        "id": "7Eq6jdcFP_3C",
        "colab": {
          "base_uri": "https://localhost:8080/"
        },
        "outputId": "948967a0-2a70-4de5-82e1-f7451c072886"
      },
      "source": [
        "#find the correlation among the set of input & output variables\r\n",
        "for i in df.columns:\r\n",
        "  print(\"Correlation to outcome for {} is {}\".format(i, df.stat.corr(\"Outcome\",i)))"
      ],
      "execution_count": null,
      "outputs": [
        {
          "output_type": "stream",
          "text": [
            "Correlation to outcome for Pregnancies is 0.22443699263363961\n",
            "Correlation to outcome for Glucose is 0.48796646527321064\n",
            "Correlation to outcome for BloodPressure is 0.17171333286446713\n",
            "Correlation to outcome for SkinThickness is 0.1659010662889893\n",
            "Correlation to outcome for Insulin is 0.1711763270226193\n",
            "Correlation to outcome for BMI is 0.2827927569760082\n",
            "Correlation to outcome for DiabetesPedigreeFunction is 0.1554590791569403\n",
            "Correlation to outcome for Age is 0.23650924717620253\n",
            "Correlation to outcome for Outcome is 1.0\n"
          ],
          "name": "stdout"
        }
      ]
    },
    {
      "cell_type": "code",
      "metadata": {
        "id": "Fl7Edj-OQACn"
      },
      "source": [
        "#feature selection\r\n",
        "from pyspark.ml.feature import VectorAssembler\r\n",
        "\r\n",
        "assembler = VectorAssembler(inputCols = ['Pregnancies', 'Glucose', 'BloodPressure', 'SkinThickness',\r\n",
        "                                         'Insulin', 'BMI', 'DiabetesPedigreeFunction', 'Age'], outputCol='features')\r\n",
        "output_data = assembler.transform(df)"
      ],
      "execution_count": null,
      "outputs": []
    },
    {
      "cell_type": "code",
      "metadata": {
        "id": "mJKrfqdaQAOy",
        "colab": {
          "base_uri": "https://localhost:8080/"
        },
        "outputId": "9cc62903-b5a6-4c40-a6e7-da6b5ea8f035"
      },
      "source": [
        "#print the schema\r\n",
        "output_data.printSchema()"
      ],
      "execution_count": null,
      "outputs": [
        {
          "output_type": "stream",
          "text": [
            "root\n",
            " |-- Pregnancies: integer (nullable = true)\n",
            " |-- Glucose: integer (nullable = true)\n",
            " |-- BloodPressure: integer (nullable = true)\n",
            " |-- SkinThickness: integer (nullable = true)\n",
            " |-- Insulin: integer (nullable = true)\n",
            " |-- BMI: double (nullable = true)\n",
            " |-- DiabetesPedigreeFunction: double (nullable = true)\n",
            " |-- Age: integer (nullable = true)\n",
            " |-- Outcome: integer (nullable = true)\n",
            " |-- features: vector (nullable = true)\n",
            "\n"
          ],
          "name": "stdout"
        }
      ]
    },
    {
      "cell_type": "code",
      "metadata": {
        "id": "FURl7qESQAaQ",
        "colab": {
          "base_uri": "https://localhost:8080/"
        },
        "outputId": "55dc2dff-6a52-47c3-b54b-d335bb9141fe"
      },
      "source": [
        "#display dataframe\r\n",
        "output_data.show()"
      ],
      "execution_count": null,
      "outputs": [
        {
          "output_type": "stream",
          "text": [
            "+-----------+-------+-------------+-------------+-------+----+------------------------+---+-------+--------------------+\n",
            "|Pregnancies|Glucose|BloodPressure|SkinThickness|Insulin| BMI|DiabetesPedigreeFunction|Age|Outcome|            features|\n",
            "+-----------+-------+-------------+-------------+-------+----+------------------------+---+-------+--------------------+\n",
            "|          2|    138|           62|           35|     80|33.6|                   0.127| 47|      1|[2.0,138.0,62.0,3...|\n",
            "|          0|     84|           82|           31|    125|38.2|                   0.233| 23|      0|[0.0,84.0,82.0,31...|\n",
            "|          0|    145|           69|           20|     80|44.2|                    0.63| 31|      1|[0.0,145.0,69.0,2...|\n",
            "|          0|    135|           68|           42|    250|42.3|                   0.365| 24|      1|[0.0,135.0,68.0,4...|\n",
            "|          1|    139|           62|           41|    480|40.7|                   0.536| 21|      0|[1.0,139.0,62.0,4...|\n",
            "|          0|    173|           78|           32|    265|46.5|                   1.159| 58|      0|[0.0,173.0,78.0,3...|\n",
            "|          4|     99|           72|           17|     80|25.6|                   0.294| 28|      0|[4.0,99.0,72.0,17...|\n",
            "|          8|    194|           80|           20|     80|26.1|                   0.551| 67|      0|[8.0,194.0,80.0,2...|\n",
            "|          2|     83|           65|           28|     66|36.8|                   0.629| 24|      0|[2.0,83.0,65.0,28...|\n",
            "|          2|     89|           90|           30|     80|33.5|                   0.292| 42|      0|[2.0,89.0,90.0,30...|\n",
            "|          4|     99|           68|           38|     80|32.8|                   0.145| 33|      0|[4.0,99.0,68.0,38...|\n",
            "|          4|    125|           70|           18|    122|28.9|                   1.144| 45|      1|[4.0,125.0,70.0,1...|\n",
            "|          3|     80|           69|           20|     80|32.0|                   0.174| 22|      0|[3.0,80.0,69.0,20...|\n",
            "|          6|    166|           74|           20|     80|26.6|                   0.304| 66|      0|[6.0,166.0,74.0,2...|\n",
            "|          5|    110|           68|           20|     80|26.0|                   0.292| 30|      0|[5.0,110.0,68.0,2...|\n",
            "|          2|     81|           72|           15|     76|30.1|                   0.547| 25|      0|[2.0,81.0,72.0,15...|\n",
            "|          7|    195|           70|           33|    145|25.1|                   0.163| 55|      1|[7.0,195.0,70.0,3...|\n",
            "|          6|    154|           74|           32|    193|29.3|                   0.839| 39|      0|[6.0,154.0,74.0,3...|\n",
            "|          2|    117|           90|           19|     71|25.2|                   0.313| 21|      0|[2.0,117.0,90.0,1...|\n",
            "|          3|     84|           72|           32|     80|37.2|                   0.267| 28|      0|[3.0,84.0,72.0,32...|\n",
            "+-----------+-------+-------------+-------------+-------+----+------------------------+---+-------+--------------------+\n",
            "only showing top 20 rows\n",
            "\n"
          ],
          "name": "stdout"
        }
      ]
    },
    {
      "cell_type": "markdown",
      "metadata": {
        "id": "8fSjOdfyQA99"
      },
      "source": [
        "# PART 5: Split Dataset & Build the Model"
      ]
    },
    {
      "cell_type": "code",
      "metadata": {
        "id": "F89--FiVQQJn"
      },
      "source": [
        "#create final data\r\n",
        "from pyspark.ml.classification import LogisticRegression\r\n",
        "\r\n",
        "final_data = output_data.select('features','Outcome')"
      ],
      "execution_count": null,
      "outputs": []
    },
    {
      "cell_type": "code",
      "metadata": {
        "id": "cKpm5912Qji_",
        "colab": {
          "base_uri": "https://localhost:8080/"
        },
        "outputId": "be1e8354-484a-4193-db8b-055226ebe5e4"
      },
      "source": [
        "#print schema of final data\r\n",
        "final_data.printSchema()"
      ],
      "execution_count": null,
      "outputs": [
        {
          "output_type": "stream",
          "text": [
            "root\n",
            " |-- features: vector (nullable = true)\n",
            " |-- Outcome: integer (nullable = true)\n",
            "\n"
          ],
          "name": "stdout"
        }
      ]
    },
    {
      "cell_type": "code",
      "metadata": {
        "id": "r_Nom7aZQjuN"
      },
      "source": [
        "#split the dataset ; build the model\r\n",
        "train, test = final_data.randomSplit([0.7, 0.3])\r\n",
        "models = LogisticRegression(labelCol= 'Outcome')\r\n",
        "model = models.fit(train)"
      ],
      "execution_count": null,
      "outputs": []
    },
    {
      "cell_type": "code",
      "metadata": {
        "id": "OljO2HcIQj7E",
        "colab": {
          "base_uri": "https://localhost:8080/"
        },
        "outputId": "0803c395-981e-4233-e129-25e57c478745"
      },
      "source": [
        "#summary of the model\r\n",
        "summary = model.summary\r\n",
        "summary.predictions.describe().show()"
      ],
      "execution_count": null,
      "outputs": [
        {
          "output_type": "stream",
          "text": [
            "+-------+-------------------+-------------------+\n",
            "|summary|            Outcome|         prediction|\n",
            "+-------+-------------------+-------------------+\n",
            "|  count|               1379|               1379|\n",
            "|   mean| 0.3546047860768673|0.27918781725888325|\n",
            "| stddev|0.47856693702516884| 0.4487627648611054|\n",
            "|    min|                0.0|                0.0|\n",
            "|    max|                1.0|                1.0|\n",
            "+-------+-------------------+-------------------+\n",
            "\n"
          ],
          "name": "stdout"
        }
      ]
    },
    {
      "cell_type": "markdown",
      "metadata": {
        "id": "DfaD_vzfQkah"
      },
      "source": [
        "# PART 6: Evaluate and Save the Model"
      ]
    },
    {
      "cell_type": "code",
      "metadata": {
        "id": "CHC5Erq7Q4QN"
      },
      "source": [
        "from pyspark.ml.evaluation import BinaryClassificationEvaluator\r\n",
        "\r\n",
        "predictions = model.evaluate(test)"
      ],
      "execution_count": null,
      "outputs": []
    },
    {
      "cell_type": "code",
      "metadata": {
        "id": "UBltVqoNQ4cM",
        "colab": {
          "base_uri": "https://localhost:8080/"
        },
        "outputId": "c37c1525-bcfe-437a-c16a-e441822664fd"
      },
      "source": [
        "predictions.predictions.show(20)"
      ],
      "execution_count": null,
      "outputs": [
        {
          "output_type": "stream",
          "text": [
            "+--------------------+-------+--------------------+--------------------+----------+\n",
            "|            features|Outcome|       rawPrediction|         probability|prediction|\n",
            "+--------------------+-------+--------------------+--------------------+----------+\n",
            "|[0.0,78.0,88.0,29...|      0|[2.84611185180785...|[0.94511735111799...|       0.0|\n",
            "|[0.0,84.0,64.0,22...|      0|[2.54536472180636...|[0.92726149468538...|       0.0|\n",
            "|[0.0,84.0,64.0,22...|      0|[2.54536472180636...|[0.92726149468538...|       0.0|\n",
            "|[0.0,84.0,64.0,22...|      0|[2.54536472180636...|[0.92726149468538...|       0.0|\n",
            "|[0.0,84.0,82.0,31...|      0|[2.75899381176307...|[0.94041928141183...|       0.0|\n",
            "|[0.0,84.0,82.0,31...|      0|[2.75899381176307...|[0.94041928141183...|       0.0|\n",
            "|[0.0,91.0,68.0,32...|      0|[2.23435218160408...|[0.90329221341233...|       0.0|\n",
            "|[0.0,93.0,60.0,20...|      0|[2.47125542248231...|[0.92210198955475...|       0.0|\n",
            "|[0.0,93.0,60.0,25...|      0|[2.84139297995549...|[0.94487206591462...|       0.0|\n",
            "|[0.0,93.0,100.0,3...|      0|[1.08124926474225...|[0.74673032228411...|       0.0|\n",
            "|[0.0,94.0,69.0,20...|      0|[2.74038415952459...|[0.93936798048228...|       0.0|\n",
            "|[0.0,94.0,70.0,27...|      0|[1.74928512106778...|[0.85186261215424...|       0.0|\n",
            "|[0.0,94.0,70.0,27...|      0|[1.74928512106778...|[0.85186261215424...|       0.0|\n",
            "|[0.0,95.0,64.0,39...|      0|[1.62324254629074...|[0.83524183124479...|       0.0|\n",
            "|[0.0,95.0,85.0,25...|      1|[2.25104674751033...|[0.90474078715345...|       0.0|\n",
            "|[0.0,95.0,85.0,25...|      1|[2.25104674751033...|[0.90474078715345...|       0.0|\n",
            "|[0.0,97.0,64.0,36...|      0|[1.94876935407774...|[0.87531239039094...|       0.0|\n",
            "|[0.0,98.0,82.0,15...|      0|[3.15583594694088...|[0.95913805950687...|       0.0|\n",
            "|[0.0,99.0,69.0,20...|      0|[3.17715630795419...|[0.95996552090734...|       0.0|\n",
            "|[0.0,99.0,69.0,20...|      0|[3.17715630795419...|[0.95996552090734...|       0.0|\n",
            "+--------------------+-------+--------------------+--------------------+----------+\n",
            "only showing top 20 rows\n",
            "\n"
          ],
          "name": "stdout"
        }
      ]
    },
    {
      "cell_type": "code",
      "metadata": {
        "id": "A4BHCxCiQ4l-",
        "colab": {
          "base_uri": "https://localhost:8080/"
        },
        "outputId": "a5fa5014-3c84-40a5-9390-2427e082a457"
      },
      "source": [
        "evaluator = BinaryClassificationEvaluator(rawPredictionCol= 'rawPrediction', labelCol='Outcome')\r\n",
        "evaluator.evaluate(model.transform(test))"
      ],
      "execution_count": null,
      "outputs": [
        {
          "output_type": "execute_result",
          "data": {
            "text/plain": [
              "0.8138437462381126"
            ]
          },
          "metadata": {
            "tags": []
          },
          "execution_count": 25
        }
      ]
    },
    {
      "cell_type": "code",
      "metadata": {
        "id": "ERpRUFOHQ4x5"
      },
      "source": [
        "# save model\r\n",
        "model.save(\"'model\")"
      ],
      "execution_count": 27,
      "outputs": []
    },
    {
      "cell_type": "code",
      "metadata": {
        "id": "4zSA9_KCQ47W"
      },
      "source": [
        "# load saved model back to the environment\r\n",
        "from pyspark.ml.classification import LogisticRegressionModel\r\n",
        "\r\n",
        "model = LogisticRegressionModel.load('model')"
      ],
      "execution_count": 28,
      "outputs": []
    },
    {
      "cell_type": "markdown",
      "metadata": {
        "id": "Iznukr-xRANo"
      },
      "source": [
        "# PART 7: Prediction on New Data with the saved model"
      ]
    },
    {
      "cell_type": "code",
      "metadata": {
        "id": "MBq2hq27RdHB"
      },
      "source": [
        "#create a new spark dataframe\r\n",
        "test_df = spark.read.csv('/content/diabetes_dataset/new_test.csv', header=True, inferSchema=True)"
      ],
      "execution_count": 29,
      "outputs": []
    },
    {
      "cell_type": "code",
      "metadata": {
        "id": "co8K0NZsRdQB",
        "colab": {
          "base_uri": "https://localhost:8080/"
        },
        "outputId": "93cfd1d9-cd60-440f-ef92-ecdcffcec737"
      },
      "source": [
        "#print the schema\r\n",
        "test_df.printSchema()"
      ],
      "execution_count": 31,
      "outputs": [
        {
          "output_type": "stream",
          "text": [
            "root\n",
            " |-- Pregnancies: integer (nullable = true)\n",
            " |-- Glucose: integer (nullable = true)\n",
            " |-- BloodPressure: integer (nullable = true)\n",
            " |-- SkinThickness: integer (nullable = true)\n",
            " |-- Insulin: integer (nullable = true)\n",
            " |-- BMI: double (nullable = true)\n",
            " |-- DiabetesPedigreeFunction: double (nullable = true)\n",
            " |-- Age: integer (nullable = true)\n",
            "\n"
          ],
          "name": "stdout"
        }
      ]
    },
    {
      "cell_type": "code",
      "metadata": {
        "id": "J7jtGf4lRdaz"
      },
      "source": [
        "#create an additional feature merged column \r\n",
        "test_data = assembler.transform(test_df)"
      ],
      "execution_count": 32,
      "outputs": []
    },
    {
      "cell_type": "code",
      "metadata": {
        "id": "kd1glzOnRdkq",
        "colab": {
          "base_uri": "https://localhost:8080/"
        },
        "outputId": "d9143386-a4ae-4bb1-9326-da23ce0a34c6"
      },
      "source": [
        "#print the schema\r\n",
        "test_data.printSchema()"
      ],
      "execution_count": 33,
      "outputs": [
        {
          "output_type": "stream",
          "text": [
            "root\n",
            " |-- Pregnancies: integer (nullable = true)\n",
            " |-- Glucose: integer (nullable = true)\n",
            " |-- BloodPressure: integer (nullable = true)\n",
            " |-- SkinThickness: integer (nullable = true)\n",
            " |-- Insulin: integer (nullable = true)\n",
            " |-- BMI: double (nullable = true)\n",
            " |-- DiabetesPedigreeFunction: double (nullable = true)\n",
            " |-- Age: integer (nullable = true)\n",
            " |-- features: vector (nullable = true)\n",
            "\n"
          ],
          "name": "stdout"
        }
      ]
    },
    {
      "cell_type": "code",
      "metadata": {
        "id": "40Dck7K_Rdxh",
        "colab": {
          "base_uri": "https://localhost:8080/"
        },
        "outputId": "8d4ce065-9136-47ad-9ce9-484ca2394888"
      },
      "source": [
        "#use model to make predictions\r\n",
        "results = model.transform(test_data)\r\n",
        "results.printSchema()"
      ],
      "execution_count": 34,
      "outputs": [
        {
          "output_type": "stream",
          "text": [
            "root\n",
            " |-- Pregnancies: integer (nullable = true)\n",
            " |-- Glucose: integer (nullable = true)\n",
            " |-- BloodPressure: integer (nullable = true)\n",
            " |-- SkinThickness: integer (nullable = true)\n",
            " |-- Insulin: integer (nullable = true)\n",
            " |-- BMI: double (nullable = true)\n",
            " |-- DiabetesPedigreeFunction: double (nullable = true)\n",
            " |-- Age: integer (nullable = true)\n",
            " |-- features: vector (nullable = true)\n",
            " |-- rawPrediction: vector (nullable = true)\n",
            " |-- probability: vector (nullable = true)\n",
            " |-- prediction: double (nullable = false)\n",
            "\n"
          ],
          "name": "stdout"
        }
      ]
    },
    {
      "cell_type": "code",
      "metadata": {
        "id": "AHpfS2SjRd7s",
        "colab": {
          "base_uri": "https://localhost:8080/"
        },
        "outputId": "3be1e1a7-bf76-4941-a7e5-4a92412603b7"
      },
      "source": [
        "#display the predictions\r\n",
        "results.select('features','prediction').show()"
      ],
      "execution_count": 35,
      "outputs": [
        {
          "output_type": "stream",
          "text": [
            "+--------------------+----------+\n",
            "|            features|prediction|\n",
            "+--------------------+----------+\n",
            "|[1.0,190.0,78.0,3...|       1.0|\n",
            "|[0.0,80.0,84.0,36...|       0.0|\n",
            "|[2.0,138.0,82.0,4...|       1.0|\n",
            "|[1.0,110.0,63.0,4...|       1.0|\n",
            "+--------------------+----------+\n",
            "\n"
          ],
          "name": "stdout"
        }
      ]
    }
  ]
}